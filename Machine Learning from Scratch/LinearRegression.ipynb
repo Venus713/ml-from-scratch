{
 "cells": [
  {
   "cell_type": "code",
   "execution_count": 1,
   "metadata": {
    "collapsed": true
   },
   "outputs": [],
   "source": [
    "'''Linear Regression (Single Variable) Implementation using Python'''\n",
    "from random import randint\n",
    "import matplotlib.pyplot as plt"
   ]
  },
  {
   "cell_type": "code",
   "execution_count": 2,
   "metadata": {
    "collapsed": true
   },
   "outputs": [],
   "source": [
    "def hypothesis(theta, small_x):\n",
    "    '''Hypothesis for a particular theta and sample point'''\n",
    "    return theta * small_x"
   ]
  },
  {
   "cell_type": "code",
   "execution_count": 3,
   "metadata": {
    "collapsed": true
   },
   "outputs": [],
   "source": [
    "def predict(theta):\n",
    "    '''Returns list of predictions for all entries in X on the basis of theta'''\n",
    "    return [hypothesis(theta, p) for p in X]"
   ]
  },
  {
   "cell_type": "code",
   "execution_count": 4,
   "metadata": {
    "collapsed": true
   },
   "outputs": [],
   "source": [
    "def compute_cost(theta):\n",
    "    '''Computes cost at theta'''\n",
    "    cost = 0\n",
    "    for i in range(100):\n",
    "        hyp = hypothesis(theta, X[i])\n",
    "        cost = (cost + ((hyp - Y[i]) * (hyp - Y[i])))\n",
    "    return 0.005 * cost # 1/(2*m) * cost # here m is 200"
   ]
  },
  {
   "cell_type": "code",
   "execution_count": 5,
   "metadata": {
    "collapsed": true
   },
   "outputs": [],
   "source": [
    "def derivative(costFn, theta):\n",
    "    '''Computes the numerical derivative of a function.'''\n",
    "    change_in_input = 0.00000001\n",
    "    change_in_output = (costFn(theta + change_in_input) - costFn(theta))\n",
    "    slope = change_in_output / change_in_input\n",
    "    return slope"
   ]
  },
  {
   "cell_type": "code",
   "execution_count": 6,
   "metadata": {},
   "outputs": [],
   "source": [
    "def gradient_descent(logFreq):\n",
    "    '''Computes gradient_descent'''\n",
    "    cur_theta = 1 # Choose any starting point\n",
    "    min_cost = compute_cost(cur_theta)\n",
    "    prv_deri = 54673257461630679457 # To identify first iteration, setting a huge prime number\n",
    "    itr = 0\n",
    "    while True:\n",
    "        #\n",
    "        # Update minimum cost (for debugging and output)\n",
    "        cur_cost = compute_cost(cur_theta)\n",
    "        if cur_cost < min_cost:\n",
    "            min_cost = cur_cost\n",
    "        itr = itr + 1\n",
    "        if(itr % logFreq == 0):\n",
    "            print(\"Current Cost: \", cur_cost)\n",
    "        #\n",
    "        # Compute derivative at cur_theta\n",
    "        d_by_dtheta = derivative(compute_cost, cur_theta)\n",
    "        #\n",
    "        # Only in case of first iteration, set the current derivative as the previous derivative\n",
    "        if prv_deri == 54673257461630679457:\n",
    "            prv_deri = d_by_dtheta\n",
    "        #\n",
    "        # Learning rate in below update equation is very important. If the learning rate\n",
    "        # isn't appropriately set, gradient_descent may not converge and will keep shooting\n",
    "        # across minima\n",
    "        # Learning Rate set in below equation is: 0.000000001\n",
    "        cur_theta = (cur_theta - (0.000000001 * d_by_dtheta))\n",
    "        #\n",
    "        # Uncomment below to view progress\n",
    "        #print(\"cost:%f | theta:%f | derivative: %f\" % (cur_cost, cur_theta, d_by_dtheta))\n",
    "        #\n",
    "        # Stops in case...\n",
    "        #   Derivative reaches zero OR\n",
    "        #   derivative offshoots across the minima (assuming learning rate is appropriately set)\n",
    "        if d_by_dtheta == 0 or ((d_by_dtheta > 0 and prv_deri < 0) or (d_by_dtheta < 0 and prv_deri > 0)):\n",
    "            return cur_theta\n",
    "        #\n",
    "        # Update previous derivative to decide stopping gradient_descent in next iterations\n",
    "        prv_deri = d_by_dtheta"
   ]
  },
  {
   "cell_type": "code",
   "execution_count": 7,
   "metadata": {
    "collapsed": true
   },
   "outputs": [],
   "source": [
    "# Generating some random data for X and computing Y with some randomness\n",
    "X = [randint(820, 2500) for p in range(0, 200)]\n",
    "Y = [(((randint(4000, 5000) * p) if (randint(0, 3) == 1) else (randint(4000, 6000) * p))/1000) for p in X]"
   ]
  },
  {
   "cell_type": "code",
   "execution_count": 8,
   "metadata": {},
   "outputs": [
    {
     "name": "stdout",
     "output_type": "stream",
     "text": [
      "Current Cost:  12545871.52739454\n",
      "Current Cost:  7076598.736042473\n",
      "Current Cost:  4089445.7547180667\n",
      "Current Cost:  2457952.2822788637\n",
      "Current Cost:  1566879.4188720188\n",
      "Current Cost:  1080202.1140901044\n",
      "Current Cost:  814393.5488411986\n",
      "Current Cost:  669216.8722304091\n",
      "Current Cost:  589925.720304582\n",
      "Current Cost:  546619.2677914904\n",
      "Current Cost:  522966.5805681895\n",
      "Current Cost:  510048.1911048864\n",
      "Current Cost:  502992.5536747444\n",
      "Current Cost:  499138.9758502783\n",
      "Current Cost:  497034.267011776\n",
      "Current Cost:  495884.7380265914\n",
      "Current Cost:  495256.89971348055\n",
      "Current Cost:  494913.9932229928\n",
      "Current Cost:  494726.707934544\n",
      "Current Cost:  494624.4183076228\n",
      "Current Cost:  494568.55076833046\n",
      "Current Cost:  494538.0375891785\n",
      "Current Cost:  494521.3721981183\n",
      "Current Cost:  494512.2700536786\n",
      "Current Cost:  494507.2987315155\n",
      "Current Cost:  494504.5835428587\n",
      "Current Cost:  494503.10058660584\n",
      "Current Cost:  494502.2906390573\n",
      "Current Cost:  494501.8482686049\n",
      "Current Cost:  494501.6066586958\n",
      "Current Cost:  494501.47469808906\n",
      "Current Cost:  494501.4026244242\n",
      "Current Cost:  494501.36325967504\n",
      "Current Cost:  494501.341759791\n",
      "Current Cost:  494501.3300170752\n",
      "Current Cost:  494501.32360347046\n",
      "Current Cost:  494501.3201005292\n",
      "Current Cost:  494501.3181872287\n",
      "Current Cost:  494501.31714219647\n",
      "Current Cost:  494501.31657143414\n",
      "Current Cost:  494501.3162596629\n",
      "Current Cost:  494501.31608935253\n",
      "Current Cost:  494501.3159963313\n",
      "Current Cost:  494501.315945519\n",
      "Current Cost:  494501.315917757\n",
      "Current Cost:  494501.31590258854\n",
      "Current Cost:  494501.3158943034\n",
      "Current Cost:  494501.31588977436\n",
      "Current Cost:  494501.31588729937\n",
      "Current Cost:  494501.3158859479\n",
      "Current Cost:  494501.3158852069\n",
      "Current Cost:  494501.315884802\n",
      "Current Cost:  494501.31588457956\n",
      "Current Cost:  494501.31588445796\n",
      "Current Cost:  494501.31588439125\n",
      "Current Cost:  494501.3158843543\n",
      "Current Cost:  494501.3158843343\n",
      "Current Cost:  494501.3158843232\n",
      "Current Cost:  494501.3158843168\n",
      "Current Cost:  494501.31588431343\n",
      "Current Cost:  494501.31588431157\n",
      "Current Cost:  494501.31588431046\n"
     ]
    }
   ],
   "source": [
    "# Running gradient_descent to compute optimum theta (solution)\n",
    "predicted_theta = gradient_descent(100)"
   ]
  },
  {
   "cell_type": "code",
   "execution_count": 9,
   "metadata": {},
   "outputs": [
    {
     "name": "stdout",
     "output_type": "stream",
     "text": [
      "predicted_theta:4.811398\n",
      "predicted_cost:494501.315884\n"
     ]
    }
   ],
   "source": [
    "# Output findings\n",
    "print('predicted_theta:%f' % predicted_theta)\n",
    "print('predicted_cost:%f' % compute_cost(predicted_theta))"
   ]
  },
  {
   "cell_type": "code",
   "execution_count": 10,
   "metadata": {
    "collapsed": true
   },
   "outputs": [],
   "source": [
    "# Generate values to plot\n",
    "PREDICTION = [hypothesis(predicted_theta, p) for p in X]"
   ]
  },
  {
   "cell_type": "code",
   "execution_count": 11,
   "metadata": {},
   "outputs": [
    {
     "data": {
      "image/png": "[encoded data removed]",
      "text/plain": [
       "<matplotlib.figure.Figure at 0x277f514f198>"
      ]
     },
     "metadata": {},
     "output_type": "display_data"
    }
   ],
   "source": [
    "# Plot raw data\n",
    "plt.scatter(X, Y)\n",
    "\n",
    "# Plot Prediction Line\n",
    "plt.plot(X, PREDICTION, 'g')\n",
    "\n",
    "# Set axis labels and plot title\n",
    "plt.xlabel('Some random input values (house area?)')\n",
    "plt.ylabel('Output values (Cost per unit area in thousands?)')\n",
    "plt.title('(Randomly generated housing price trends)')\n",
    "\n",
    "plt.show()"
   ]
  },
  {
   "cell_type": "code",
   "execution_count": null,
   "metadata": {
    "collapsed": true
   },
   "outputs": [],
   "source": []
  }
 ],
 "metadata": {
  "kernelspec": {
   "display_name": "Python 3",
   "language": "python",
   "name": "python3"
  },
  "language_info": {
   "codemirror_mode": {
    "name": "ipython",
    "version": 3
   },
   "file_extension": ".py",
   "mimetype": "text/x-python",
   "name": "python",
   "nbconvert_exporter": "python",
   "pygments_lexer": "ipython3",
   "version": "3.6.1"
  }
 },
 "nbformat": 4,
 "nbformat_minor": 2
}
